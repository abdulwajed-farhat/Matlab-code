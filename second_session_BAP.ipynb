{
 "cells": [
  {
   "cell_type": "code",
   "execution_count": 6,
   "id": "cad002ec",
   "metadata": {},
   "outputs": [
    {
     "name": "stdout",
     "output_type": "stream",
     "text": [
      "Hello class\n"
     ]
    }
   ],
   "source": [
    "print(\"Hello class\")"
   ]
  },
  {
   "cell_type": "code",
   "execution_count": 3,
   "id": "071e28c5",
   "metadata": {},
   "outputs": [],
   "source": [
    "### It should be print not Print"
   ]
  },
  {
   "cell_type": "code",
   "execution_count": null,
   "id": "a9e9948b",
   "metadata": {},
   "outputs": [],
   "source": [
    "##some times it run for a week \n",
    "#just be patient till your code is runned properly"
   ]
  },
  {
   "cell_type": "code",
   "execution_count": 4,
   "id": "6160c157",
   "metadata": {},
   "outputs": [
    {
     "ename": "SyntaxError",
     "evalue": "invalid syntax (Temp/ipykernel_5948/296445308.py, line 1)",
     "output_type": "error",
     "traceback": [
      "\u001b[1;36m  File \u001b[1;32m\"C:\\Users\\ABDULW~1\\AppData\\Local\\Temp/ipykernel_5948/296445308.py\"\u001b[1;36m, line \u001b[1;32m1\u001b[0m\n\u001b[1;33m    print(hello worl)\u001b[0m\n\u001b[1;37m                ^\u001b[0m\n\u001b[1;31mSyntaxError\u001b[0m\u001b[1;31m:\u001b[0m invalid syntax\n"
     ]
    }
   ],
   "source": [
    "print(hello worl)#inverted comma is missing"
   ]
  },
  {
   "cell_type": "code",
   "execution_count": 5,
   "id": "2733035c",
   "metadata": {},
   "outputs": [],
   "source": [
    "#inverted commas"
   ]
  },
  {
   "cell_type": "code",
   "execution_count": null,
   "id": "b8f57e06",
   "metadata": {},
   "outputs": [],
   "source": []
  }
 ],
 "metadata": {
  "kernelspec": {
   "display_name": "Python 3 (ipykernel)",
   "language": "python",
   "name": "python3"
  },
  "language_info": {
   "codemirror_mode": {
    "name": "ipython",
    "version": 3
   },
   "file_extension": ".py",
   "mimetype": "text/x-python",
   "name": "python",
   "nbconvert_exporter": "python",
   "pygments_lexer": "ipython3",
   "version": "3.9.7"
  }
 },
 "nbformat": 4,
 "nbformat_minor": 5
}
